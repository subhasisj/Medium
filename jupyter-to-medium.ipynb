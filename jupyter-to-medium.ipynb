{
 "cells": [
  {
   "cell_type": "code",
   "execution_count": 8,
   "metadata": {},
   "outputs": [
    {
     "name": "stdout",
     "output_type": "stream",
     "text": [
      "loading image to medium\n",
      "loading image to medium\n",
      "loading image to medium\n",
      "loading image to medium\n",
      "\n",
      "\n",
      "Image Storage Information from Medium\n",
      "-------------------------------------\n",
      "\n",
      "[\n",
      "    {\n",
      "        \"data\": {\n",
      "            \"url\": \"https://cdn-images-1.medium.com/proxy/1*VsFNHIOonilhOUuyjeIy_w.png\",\n",
      "            \"md5\": \"VsFNHIOonilhOUuyjeIy_w\"\n",
      "        }\n",
      "    },\n",
      "    {\n",
      "        \"data\": {\n",
      "            \"url\": \"https://cdn-images-1.medium.com/proxy/1*_Q3N5Ok9DZoBQ-6UjBICUA.png\",\n",
      "            \"md5\": \"_Q3N5Ok9DZoBQ-6UjBICUA\"\n",
      "        }\n",
      "    },\n",
      "    {\n",
      "        \"data\": {\n",
      "            \"url\": \"https://cdn-images-1.medium.com/proxy/1*hd-nn0npVm7yFQNBA_6zkg.png\",\n",
      "            \"md5\": \"hd-nn0npVm7yFQNBA_6zkg\"\n",
      "        }\n",
      "    },\n",
      "    {\n",
      "        \"data\": {\n",
      "            \"url\": \"https://cdn-images-1.medium.com/proxy/1*S8c2WRQ9ZSELa3JPwh7zng.png\",\n",
      "            \"md5\": \"S8c2WRQ9ZSELa3JPwh7zng\"\n",
      "        }\n",
      "    }\n",
      "]\n",
      "\n",
      "\n",
      "\n",
      "Successfully posted to Medium!!!\n",
      "--------------------------------\n",
      "id                  9a54a22d6b9f\n",
      "title               01. Few-Shot-Learning-Semantic-Search\n",
      "authorId            1d9c2b5c01562210c41234b37ea4583f55565f694672e5b16151a483690d4d633\n",
      "url                 https://medium.com/@subhasis.jethy/9a54a22d6b9f\n",
      "canonicalUrl        \n",
      "publishStatus       draft\n",
      "license             all-rights-reserved\n",
      "licenseUrl          https://policy.medium.com/medium-terms-of-service-9db0094a1e0f\n",
      "tags                []\n"
     ]
    },
    {
     "data": {
      "text/plain": [
       "{'data': {'id': '9a54a22d6b9f',\n",
       "  'title': '01. Few-Shot-Learning-Semantic-Search',\n",
       "  'authorId': '1d9c2b5c01562210c41234b37ea4583f55565f694672e5b16151a483690d4d633',\n",
       "  'url': 'https://medium.com/@subhasis.jethy/9a54a22d6b9f',\n",
       "  'canonicalUrl': '',\n",
       "  'publishStatus': 'draft',\n",
       "  'license': 'all-rights-reserved',\n",
       "  'licenseUrl': 'https://policy.medium.com/medium-terms-of-service-9db0094a1e0f',\n",
       "  'tags': []}}"
      ]
     },
     "execution_count": 8,
     "metadata": {},
     "output_type": "execute_result"
    }
   ],
   "source": [
    "import jupyter_to_medium as jtm\n",
    "jtm.publish('./01. Few-Shot-Learning-Semantic-Search.ipynb',\n",
    "            integration_token=None,\n",
    "            pub_name=None,\n",
    "            title=None,\n",
    "            tags=None,\n",
    "            publish_status='draft',\n",
    "            notify_followers=False,\n",
    "            license='all-rights-reserved',\n",
    "            canonical_url=None,\n",
    "            chrome_path=None,\n",
    "            save_markdown=False,\n",
    "            table_conversion='chrome',\n",
    "            gistify=False,\n",
    "            gist_threshold=5\n",
    "            )"
   ]
  },
  {
   "cell_type": "code",
   "execution_count": null,
   "metadata": {},
   "outputs": [],
   "source": []
  }
 ],
 "metadata": {
  "kernelspec": {
   "display_name": "Python 3.9.7 ('base')",
   "language": "python",
   "name": "python3"
  },
  "language_info": {
   "codemirror_mode": {
    "name": "ipython",
    "version": 3
   },
   "file_extension": ".py",
   "mimetype": "text/x-python",
   "name": "python",
   "nbconvert_exporter": "python",
   "pygments_lexer": "ipython3",
   "version": "3.9.7"
  },
  "orig_nbformat": 4,
  "vscode": {
   "interpreter": {
    "hash": "88279d2366fe020547cde40dd65aa0e3aa662a6ec1f3ca12d88834876c85e1a6"
   }
  }
 },
 "nbformat": 4,
 "nbformat_minor": 2
}
